{
 "cells": [
  {
   "cell_type": "markdown",
   "metadata": {},
   "source": [
    "# __R Session n°1 - practice:__\n",
    "M1 MEG UE5 - Claire Vandiedonck\n",
    "***\n",
    "\n",
    "__*Programme couvert:*__\n",
    "\n",
    "- Assignation de variables, utilisation des fonctions built-in de R.\n",
    "- Les vecteurs et leur manipulation.\n"
   ]
  },
  {
   "cell_type": "markdown",
   "metadata": {},
   "source": [
    "---\n",
    "    \n",
    "**Conseils**    \n",
    "> Les exercices proposés sont donnés dans un ordre progressif qui suit celui du diaporama associé. Ils ont des niveaux de difficulté variable. Pour chaque exercice, des fonctions R vous sont suggérées. N’hésitez pas à consulter leur menu d’aide en tapant soit `?nom_fonction`, soit `help(nom_fonction)` ou en consultant l'aide contextuelle (Menu/Help/Sow Contextual Help ou <kbd>Ctrl</kbd> + <kbd>i</kbd>). Vous pouvez parvenir aux mêmes résultats avec d’autres commandes. Les commandes les plus courtes sont en général les meilleures. Une correction détaillée sera fournie.\n",
    "\n",
    "> Vous pouvez réaliser ces exercices directement dans ce notebook sur `adenine` en indiquant votre code dans les cellules laissées libres. Pour ajouter une nouvelle cellule, cliquez simplement sur le `+` dans le menu en haut à gauche du notebook (cf. rappels sur les notebooks en bas de ce notebook). Vous pouvez mettre plusieurs lignes de code aussi par cellule.\n",
    "> Pour executer les cellules, cliquez sur `Shift+Enter`. Executez les dans le bon ordre.\n",
    "> Remarque: dans un notebook jupyter, par défaut chaque élément d'un vecteur est affiché sur une ligne différente numérotée. Si vous souhaitez afficher le vecteur de façon plus classique, c'est à dire en ligne, tel qu'il apparait dans R, il est nécessaire d'utiliser la fonction `print()` -> voir dans cet exemple avec un vecteur contenant les deux valeurs numériques 1 et 10.\n"
   ]
  },
  {
   "cell_type": "code",
   "execution_count": null,
   "metadata": {},
   "outputs": [],
   "source": [
    "my_vector <- c(1, 10) # pour générer le vecteur et l'assigner dans un objet \"my_vector\"\n",
    "my_vector # l'affichage ici montre deux éléments, chacun séparé par un point médian."
   ]
  },
  {
   "cell_type": "code",
   "execution_count": null,
   "metadata": {},
   "outputs": [],
   "source": [
    "print(my_vector) # L'affichage ici montre le vecteur par ligne avec l'indice 1 entre crochets indiquant l'indice de la première valeur de la ligne."
   ]
  },
  {
   "cell_type": "markdown",
   "metadata": {},
   "source": [
    "> Vous pouvez également réaliser ces exercices si vous le préférez dans un terminal ou une console de cet environnement `megm1_ue5_r` sur adenine, ou sur la version rstudio de cet environnement.\n",
    ">\n",
    "> Il est enfin possible de réaliser ces exercices sur votre ordinateur. Dans ce cas, utilisez un editeur de texte avec coloration syntaxique pour votre code (editeur dans Rstudio, ou Tinn-R ou notepad++ par exemple). Sauvegardez vos commandes dans un fichier mes_commandes.R dans le répertoire de votre choix. Exécutez les commandes une par une dans votre console. Vous pouvez ajouter des commentaires qui ne seront pas éxécutés si vous les précédez du caractère « # ».\n",
    "\n",
    ">    "
   ]
  },
  {
   "cell_type": "markdown",
   "metadata": {},
   "source": [
    "---\n",
    "## Avant d'aller plus loin\n",
    "\n",
    "<div class=\"alert alert-block alert-danger\"><b>Attention:</b> \n",
    "Ne travaillez pas directement sur ce notebook pour ne pas le perdre. Dupliquez-le et renommez-le par exemple en ajoutant vos initiales et travaillez sur cette nouvelle copie. Pour ce faire, dans le panneau de gauche, faites un clic droit sur le fichier et sélectionnez \"Duplicate\". Puis, toujours dans la colonne de gauche, faites un clic droit sur cette copie et sélectionnez \"rename\" pour changer le nom. Ouvrez ensuite cette nouvelle version en double cliquant dessus. Vous êtes prêt(e) à démarrer! <br>\n",
    "<br>\n",
    "<b>N'oubliez pas de sauvegarder régulièrement votre notebook</b>: <kbd>Ctrl</kbd> + <kbd>S</kbd>. ou en cliquant sur l'icone 💾 en haut à gauche de votre notebook ou dans le Menu du JupyterLab \"File puis \"Save Notebook\"!\n",
    "</div>"
   ]
  },
  {
   "cell_type": "markdown",
   "metadata": {},
   "source": [
    "<mark> Do not hesitate to try other commands by adding other cells. cf  useful commands at the bottom of the notebook</mark> "
   ]
  },
  {
   "cell_type": "markdown",
   "metadata": {},
   "source": [
    "#### 1. Identifiez votre répertoire de travail"
   ]
  },
  {
   "cell_type": "code",
   "execution_count": null,
   "metadata": {},
   "outputs": [],
   "source": [
    "getwd()"
   ]
  },
  {
   "cell_type": "markdown",
   "metadata": {},
   "source": [
    "Si ce répertoire ne vous convient pas, changer le pour un répertoire existant `my_directory`par exemple, avec la commande suivante en spécifiant le chemin relatif ou absolu de votre répertoire:\n",
    "```setwd(\"path/my_directory\")```"
   ]
  },
  {
   "cell_type": "markdown",
   "metadata": {},
   "source": [
    "#### 2.  Identifiez la version R de votre environnement et packages installés."
   ]
  },
  {
   "cell_type": "code",
   "execution_count": null,
   "metadata": {},
   "outputs": [],
   "source": [
    "sessionInfo()"
   ]
  },
  {
   "cell_type": "markdown",
   "metadata": {},
   "source": [
    "---\n",
    "---\n",
    "\n",
    "## Exercice 1: création de vecteurs numériques\n",
    "\n",
    "Créez le vecteur `vec1` contenant la suite des entiers de 1 à 12. \n",
    "\n",
    "*__Tip :__*\n",
    "_fonction recommandée : `:`_"
   ]
  },
  {
   "cell_type": "code",
   "execution_count": null,
   "metadata": {},
   "outputs": [],
   "source": []
  },
  {
   "cell_type": "markdown",
   "metadata": {},
   "source": [
    "Ajoutez à la fin de ce vecteur les valeurs 16, 17, 18.\n",
    "\n",
    "*__Tip :__*\n",
    "_fonctions recommandées : `:` et `c()`_"
   ]
  },
  {
   "cell_type": "code",
   "execution_count": null,
   "metadata": {},
   "outputs": [],
   "source": []
  },
  {
   "cell_type": "markdown",
   "metadata": {},
   "source": [
    "Refaites ces opérations en une seule ligne de commande et affichez ensuite le vecteur `vec1`."
   ]
  },
  {
   "cell_type": "code",
   "execution_count": null,
   "metadata": {},
   "outputs": [],
   "source": []
  },
  {
   "cell_type": "markdown",
   "metadata": {},
   "source": [
    "---\n",
    "Créez le vecteur `vec2` contenant les valeurs suivantes : 0, 0.5, 1.0, 1.5, 2.0, 2.5, 3.0, 3.5, 4.0, 4.5, 5.0.\n",
    "\n",
    "Réalisez cette action au moins de deux façons différentes.\n",
    "\n",
    "*__Tip :__*\n",
    "_fonctions recommandées : `c()` et `seq()`_\n"
   ]
  },
  {
   "cell_type": "code",
   "execution_count": null,
   "metadata": {},
   "outputs": [],
   "source": []
  },
  {
   "cell_type": "code",
   "execution_count": null,
   "metadata": {},
   "outputs": [],
   "source": []
  },
  {
   "cell_type": "markdown",
   "metadata": {},
   "source": [
    "---\n",
    "---\n",
    "## Exercice 2 : manipulation de données numériques\n",
    "Effectuez l’opération suivante : 4850 / 26. Affichez le résultat avec seulement 2 ou 3 décimales.\n",
    "\n",
    "Existe-t-il d’autres fonctions R permettant de réaliser une réduction de décimales ? Répondez à cette question en écrivant du texte dans une cellule de commentaires au format Markdown. Vous pouvez ensuite ajouter une cellule de code pour montrer des exemples. \n",
    "\n",
    "*__Tip :__*\n",
    "_fonctions recommandées : `round()` et `help()`_\n"
   ]
  },
  {
   "cell_type": "code",
   "execution_count": null,
   "metadata": {},
   "outputs": [],
   "source": []
  },
  {
   "cell_type": "markdown",
   "metadata": {},
   "source": [
    "---\n",
    "---\n",
    "## Exercice 3 : création d'un vecteur avec des chaînes de caractères incrémentées\n",
    "Créez le vecteur `vec3` contenant les noms suivants : « individu1 », « individu2 », ... , « individu100».\n",
    "\n",
    "Attention au séparateur utilisé !\n",
    "\n",
    "*__Tip :__*\n",
    "_fonction recommandée : `paste()`_\n"
   ]
  },
  {
   "cell_type": "code",
   "execution_count": null,
   "metadata": {},
   "outputs": [],
   "source": []
  },
  {
   "cell_type": "markdown",
   "metadata": {},
   "source": [
    "---\n",
    "---\n",
    "## Exercice 4 : création et manipulation de vecteurs de chaînes de caractères\n",
    "Affichez la date du jour. Sauvegardez le résultat dans une variable `dateJour`.\n",
    "\n",
    "Créez la variable `m1` dans laquelle vous assignerez la phrase _« Je me souviendrai longtemps de mon premier cours de R, le .\"_\n",
    "\n",
    "Combinez les variables `dateJour` et `m1` afin d’afficher à l’écran la phrase suivante _« Je me souviendrai longtemps de mon premier cours de R, le YYYY-MM-DD.»_\n",
    "\n",
    "Comptez le nombre de caractères de cette phrase.\n",
    "\n",
    "*__Tip :__*\n",
    "_fonctions recommandées : `Sys.Date()`, `paste()` et `nchar()`_"
   ]
  },
  {
   "cell_type": "code",
   "execution_count": null,
   "metadata": {},
   "outputs": [],
   "source": []
  },
  {
   "cell_type": "markdown",
   "metadata": {},
   "source": [
    "---\n",
    "---\n",
    "## Exercice 5 : utilisation d'une constante de R et manipulation de chaînes de caractères\n",
    "Créez la variable `vec4` dans laquelle vous assignerez les 24 lettres de l’alphabet en lettres capitales.\n",
    "\n",
    "Remplacez ensuite par des lettres minuscules dans le vecteur `vec4`  toutes les lettres d’indice impair.\n",
    "\n",
    "Inversez l’odre du vecteur `vec4`. Affichez le vecteur `vec4` ainsi obtenu.\n",
    "\n",
    "*__Tip :__*\n",
    "_constante recommandée: `LETTERS`; fonctions recommandées : `seq()`, `tolower()`, `rev()`_"
   ]
  },
  {
   "cell_type": "code",
   "execution_count": null,
   "metadata": {},
   "outputs": [],
   "source": []
  },
  {
   "cell_type": "markdown",
   "metadata": {},
   "source": [
    "---\n",
    "---\n",
    "## Exercice 6 : manipulation avancée d'un vecteur\n",
    "Créez un vecteur `vec5` dans lequel vous entrerez les entiers de 1 à 10, en entrant d’abord les valeurs impaires puis les valeurs paires.\n",
    "\n",
    "Ajoutez ensuite, sous forme d’attribut, le nom _« impair »_ ou _« pair »_ à chacune des valeurs de ce vecteur .\n",
    "\n",
    "Réordonnez le vecteur `v5` dans l’ordre croissant des valeurs.\n",
    "\n",
    "Quel est le type de données du vecteur `vec5` ?\n",
    "\n",
    "Affichez à présent les 2ème, 4ème, 9ème , 8ème et 7ème valeurs.\n",
    "\n",
    "Remplacez-les ensuite dans le vecteur `vec5` par les lettres de l’alpahbet du vecteur `vec4` de même indice.\n",
    "\n",
    "Affichez le vecteur `vec5` ainsi obtenu.\n",
    "\n",
    "Quelle est nouveau le type de données du vecteur `vec5` ?\n",
    "\n",
    "*__Tip :__*\n",
    "_fonctions recommandées : `c()`, `seq()`, `sort()`, et `mode()`_"
   ]
  },
  {
   "cell_type": "markdown",
   "metadata": {},
   "source": [
    "---\n",
    "---\n",
    "## Exercice 7 : tirage aléatoire et statistiques descriptives de données numériques\n",
    "Tirez aléatoirement 10 nombres dans un ensemble de valeurs comprises entre 1 et 100.\n",
    "\n",
    "*__Tip :__*\n",
    "_fonction recommandée : `sample()`_"
   ]
  },
  {
   "cell_type": "code",
   "execution_count": null,
   "metadata": {},
   "outputs": [],
   "source": []
  },
  {
   "cell_type": "markdown",
   "metadata": {},
   "source": [
    "Assignez à présent dans un vecteur `vec6` 100 nombres entiers tirés aléatoirement dans un ensemble de valeurs comprises entre 1 et 1000."
   ]
  },
  {
   "cell_type": "code",
   "execution_count": null,
   "metadata": {},
   "outputs": [],
   "source": []
  },
  {
   "cell_type": "markdown",
   "metadata": {},
   "source": [
    "Calculer la moyenne, la médiane, l’écart-type et les quartiles de cette série de 100 valeurs.\n",
    "\n",
    "*__Tip :__*\n",
    "_fonctions recommandées : `mean()`, `median()`, `sd()`, `quantile()`, `summary()`_"
   ]
  },
  {
   "cell_type": "code",
   "execution_count": null,
   "metadata": {},
   "outputs": [],
   "source": []
  },
  {
   "cell_type": "markdown",
   "metadata": {},
   "source": [
    "Retirez les 50 dernières valeurs du vecteur vec6."
   ]
  },
  {
   "cell_type": "code",
   "execution_count": null,
   "metadata": {},
   "outputs": [],
   "source": []
  },
  {
   "cell_type": "markdown",
   "metadata": {
    "tags": []
   },
   "source": [
    "---\n",
    "---\n",
    "## Exercice 8 : tirage aléatoire d'une loi de probabilité connue et filtrage de valeurs\n",
    "Créez un vecteur `v7` dans lequel vous assignerez 50 valeurs tirées aléatoirement parmi 50 données manquantes et 50 données issues d’une loi normale de moyenne 3 et de variance 4.\n",
    "\n",
    "Calculer la moyenne du vecteur `vec7`.\n",
    "\n",
    "Comptez le nombre de données manquantes dans le vecteur `vec7`.\n",
    "\n",
    "\n",
    "*__Tip :__*\n",
    "_fonctions recommandées : `sample()`,`c()`, `rep()`, `rnorm()`, `mean()` avec l’argument `na.rm=TRUE`, `is.na()`, `sum()`, `which()`_"
   ]
  },
  {
   "cell_type": "code",
   "execution_count": null,
   "metadata": {},
   "outputs": [],
   "source": []
  },
  {
   "cell_type": "markdown",
   "metadata": {},
   "source": [
    "---\n",
    "Dans un vecteur `vec8`, gardez uniquement les valeurs positives du vecteur `vec7`.\n",
    "\n",
    "Affichez le vecteur `vec8` pour vérifier qu’il ne contient que des données positives.\n",
    "\n",
    "*__Tip :__*\n",
    "_fonction recommandée : `which()`_"
   ]
  },
  {
   "cell_type": "code",
   "execution_count": null,
   "metadata": {},
   "outputs": [],
   "source": []
  },
  {
   "cell_type": "markdown",
   "metadata": {},
   "source": [
    "---\n",
    "---\n",
    "## Exercice 9 : comptage de valeurs, remplacement de valeurs et coercion\n",
    "Simulez 100 lancers d’une pièce de monnaie. Pour cela, réalisez un tirage avec remise dans un ensemble de deux valeurs possibles (« pile » et « face ») et assignez le résultat dans un vecteur `results`.\n",
    "\n",
    "Comptez le nombre de piles et de faces. \n",
    "\n",
    "*__Tip :__*\n",
    "_fonctions recommandées : `sample()`,`table()`_"
   ]
  },
  {
   "cell_type": "code",
   "execution_count": null,
   "metadata": {},
   "outputs": [],
   "source": []
  },
  {
   "cell_type": "markdown",
   "metadata": {},
   "source": [
    "---\n",
    "Réalisez la même simulation que ci-dessus, mais en biaisant la pièce de monnaie (la probabilité d’obtenir « pile » doit seulement être de 0,3).\n",
    "\n",
    "Quelles proportions de piles et de faces avez-vous obtenues ?\n",
    "\n",
    "Recodez tous les piles par les valeurs numériques 0 et les faces par 1.\n",
    "\n",
    "Comptez le nombre de faces. \n",
    "\n",
    "*__Tip :__*\n",
    "_fonctions recommandées : `sample()`,`table()`, `which()`, `as.numeric()`, `sum()`_"
   ]
  },
  {
   "cell_type": "code",
   "execution_count": null,
   "metadata": {},
   "outputs": [],
   "source": []
  },
  {
   "cell_type": "markdown",
   "metadata": {
    "tags": []
   },
   "source": [
    "---\n",
    "---\n",
    "## Exercice 10 : importation et filtrage de données\n",
    "Importer dans votre session R le jeu de données `precip`. Ce jeu de données est pré-enregistré dans le logiciel R et regroupe des données de précipitations dans différentes villes américaines.\n",
    "\n",
    "Stocker dans le vecteur `villes` la liste des villes pour lesquelles des mesures sont disponibles.\n",
    "\n",
    "Combien y en a-t-il ? Afficher le niveau de précipitation des villes suivantes : Philadelphia, Columbia, Baltimore, Sacramento.\n",
    "\n",
    "\n",
    "*__Tip :__*\n",
    "_fonctions recommandées : `data(precip)`, `names( )`, `length( )`_"
   ]
  },
  {
   "cell_type": "code",
   "execution_count": null,
   "metadata": {},
   "outputs": [],
   "source": []
  },
  {
   "cell_type": "code",
   "execution_count": null,
   "metadata": {},
   "outputs": [],
   "source": []
  },
  {
   "cell_type": "code",
   "execution_count": null,
   "metadata": {},
   "outputs": [],
   "source": []
  },
  {
   "cell_type": "code",
   "execution_count": null,
   "metadata": {},
   "outputs": [],
   "source": []
  },
  {
   "cell_type": "code",
   "execution_count": null,
   "metadata": {},
   "outputs": [],
   "source": []
  },
  {
   "cell_type": "code",
   "execution_count": null,
   "metadata": {},
   "outputs": [],
   "source": []
  },
  {
   "cell_type": "code",
   "execution_count": null,
   "metadata": {},
   "outputs": [],
   "source": []
  },
  {
   "cell_type": "markdown",
   "metadata": {
    "tags": []
   },
   "source": [
    "---\n",
    "---\n",
    "## <mark>Check list des actions avant la prochaine session R<mark>\n",
    "\n",
    "_Pour cocher les cases, ouvrez la cellule du notebook et remplacez l'espace entre les crochets par un `x` lorsque l'action est effectuée_\n",
    "\n",
    "[ ] relire le cours (dias et notebook tutoriel sur les vecteurs)\n",
    "\n",
    "[ ] faire les exercices sans les corrections\n",
    "\n",
    "[ ] lire et comprendre les corrections\n",
    "\n",
    "[ ] refaire les exercices sans les corrections\n",
    "\n",
    "[ ] faire les travaux préparatoires de la session 2 sur les matrices (video et notebook, diaporama et script correspondants à la video). "
   ]
  },
  {
   "cell_type": "markdown",
   "metadata": {
    "tags": []
   },
   "source": [
    "***\n",
    "***\n",
    "## Useful commands\n",
    "<div class=\"alert alert-block alert-info\"> \n",
    "    \n",
    "- <kbd>CTRL</kbd>+<kbd>S</kbd> : save notebook\n",
    "- <kbd>CTRL</kbd>+<kbd>ENTER</kbd> : Run Cell\n",
    "- <kbd>SHIFT</kbd>+<kbd>ENTER</kbd> : Run Cell and Select Next\n",
    "- <kbd>ALT</kbd>+<kbd>ENTER</kbd> : Run Cell and Insert Below\n",
    "- <kbd>ESC</kbd>+<kbd>y</kbd> : Change to *Code* Cell Type\n",
    "- <kbd>ESC</kbd>+<kbd>m</kbd> : Change to *Markdown* Cell Type\n",
    "- <kbd>ESC</kbd>+<kbd>r</kbd> : Change to *Raw* Cell Type\n",
    "- <kbd>ESC</kbd>+<kbd>a</kbd> : Create Cell Above\n",
    "- <kbd>ESC</kbd>+<kbd>b</kbd> : Create Cell Below\n",
    "\n",
    "<em>  \n",
    "To make nice html reports with markdown: <a href=\"https://dillinger.io/\" title=\"dillinger.io\">html visualization tool 1</a> or <a href=\"https://stackedit.io/app#\" title=\"stackedit.io\">html visualization tool 2</a>, <a href=\"https://www.tablesgenerator.com/markdown_tables\" title=\"tablesgenerator.com\">to draw nice tables</a>, and the <a href=\"https://medium.com/analytics-vidhya/the-ultimate-markdown-guide-for-jupyter-notebook-d5e5abf728fd\" title=\"Ultimate guide\">Ultimate guide</a>. <br>\n",
    "Further reading on JupyterLab notebooks: <a href=\"https://jupyterlab.readthedocs.io/en/latest/user/notebook.html\" title=\"Jupyter Lab\">Jupyter Lab documentation</a>.<br>   \n",
    "</em>    \n",
    " \n",
    "</div>"
   ]
  },
  {
   "cell_type": "markdown",
   "metadata": {},
   "source": [
    "__*=> About this jupyter notebook*__\n",
    "\n",
    "This a jupyter notebook in **R**, meaning that the commands you will enter or run in `Code` cells are directly understood by the server in the R language.\n",
    "<br>You could run the same commands in a Terminal or in RStudio. \n",
    "Here we are using JupyterLab interface implemented as part of the https://plasmabio.org/ project lead by Sandrine Caburet, Pierre Poulain and Claire Vandiedonck. \n",
    "---\n",
    "\n"
   ]
  },
  {
   "cell_type": "markdown",
   "metadata": {},
   "source": [
    "[version 11/09/2023 - last revision: @CVandiedonck]"
   ]
  }
 ],
 "metadata": {
  "kernelspec": {
   "display_name": "R",
   "language": "R",
   "name": "ir"
  },
  "language_info": {
   "codemirror_mode": "r",
   "file_extension": ".r",
   "mimetype": "text/x-r-source",
   "name": "R",
   "pygments_lexer": "r",
   "version": "4.2.0"
  },
  "toc-autonumbering": false
 },
 "nbformat": 4,
 "nbformat_minor": 4
}
